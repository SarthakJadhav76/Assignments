{
 "cells": [
  {
   "cell_type": "code",
   "execution_count": 26,
   "id": "b2071e4c-99c1-4224-abbf-f473102d022f",
   "metadata": {},
   "outputs": [],
   "source": [
    "#Q1 Write a Python program to print your name and favourite colour on two separate lines."
   ]
  },
  {
   "cell_type": "code",
   "execution_count": 27,
   "id": "d1bebf20-7f1d-4c69-9cbe-ba5bd4488774",
   "metadata": {},
   "outputs": [
    {
     "name": "stdout",
     "output_type": "stream",
     "text": [
      "Sarthak Jadhav\n",
      "Black\n"
     ]
    }
   ],
   "source": [
    "print(\"Sarthak Jadhav\\nBlack\")"
   ]
  },
  {
   "cell_type": "code",
   "execution_count": 28,
   "id": "ebea1361-a037-4d3c-9c6a-fc214f39628b",
   "metadata": {},
   "outputs": [],
   "source": [
    "#Q2 Write a Python program that prints the result of adding 7 and 8."
   ]
  },
  {
   "cell_type": "code",
   "execution_count": 29,
   "id": "83f68eba-3015-4c98-a4cf-db42c5ceb00b",
   "metadata": {},
   "outputs": [
    {
     "name": "stdout",
     "output_type": "stream",
     "text": [
      "15\n"
     ]
    }
   ],
   "source": [
    "print(7 + 8)"
   ]
  },
  {
   "cell_type": "code",
   "execution_count": 30,
   "id": "ed41a65a-4276-4902-942f-201e17bff325",
   "metadata": {},
   "outputs": [],
   "source": [
    "#Q3 Use the print function to display the following text exactly as it is:\n",
    "# Python is fun!\n",
    "# Let's learn together."
   ]
  },
  {
   "cell_type": "code",
   "execution_count": 31,
   "id": "9012c1f0-acb6-4342-946e-893e7082516e",
   "metadata": {},
   "outputs": [
    {
     "name": "stdout",
     "output_type": "stream",
     "text": [
      "Python is fun!\n",
      "Let's learn together.\n"
     ]
    }
   ],
   "source": [
    "print(\"Python is fun!\\nLet's learn together.\")"
   ]
  },
  {
   "cell_type": "code",
   "execution_count": 32,
   "id": "976023ff-5608-4f40-bd1d-ec0360c182ba",
   "metadata": {},
   "outputs": [],
   "source": [
    "# Q4 Write a Python program to calculate and print the result of multiplying 6 by 9."
   ]
  },
  {
   "cell_type": "code",
   "execution_count": 33,
   "id": "8f7df3d3-de26-46d9-aed3-c13be50f4aff",
   "metadata": {},
   "outputs": [
    {
     "name": "stdout",
     "output_type": "stream",
     "text": [
      "54\n"
     ]
    }
   ],
   "source": [
    "print(6*9)"
   ]
  },
  {
   "cell_type": "code",
   "execution_count": 34,
   "id": "2a7f2f8b-625f-49bf-b143-59489bb23636",
   "metadata": {},
   "outputs": [],
   "source": [
    "# Q5 Write a Python program that prints the result of adding 5 + 5 and multiplying 2 * 3 in a single line of code."
   ]
  },
  {
   "cell_type": "code",
   "execution_count": 35,
   "id": "acfded80-4d46-48d9-a672-0529314334a3",
   "metadata": {},
   "outputs": [
    {
     "name": "stdout",
     "output_type": "stream",
     "text": [
      "10 6\n"
     ]
    }
   ],
   "source": [
    "print(5+5, 2*3)"
   ]
  },
  {
   "cell_type": "code",
   "execution_count": 36,
   "id": "689c6644-c101-43eb-810e-00c0e9524225",
   "metadata": {},
   "outputs": [],
   "source": [
    "# 1. Take the name A as input from the user and print \"Hello A\", where A is the name in input."
   ]
  },
  {
   "cell_type": "code",
   "execution_count": 37,
   "id": "06d86c87-85da-4526-9d54-0fc9c9f58d4d",
   "metadata": {},
   "outputs": [
    {
     "name": "stdin",
     "output_type": "stream",
     "text": [
      "Enter Name:  A\n"
     ]
    },
    {
     "name": "stdout",
     "output_type": "stream",
     "text": [
      "Hello A\n"
     ]
    }
   ],
   "source": [
    "A = input(\"Enter Name: \")\n",
    "print(\"Hello\", A)"
   ]
  },
  {
   "cell_type": "code",
   "execution_count": 38,
   "id": "f6941b28-082a-41ea-ab41-cf470e5ea1cd",
   "metadata": {},
   "outputs": [],
   "source": [
    "# 2. You have x rupees in your savings. You google pay y rupees, print your bank balance"
   ]
  },
  {
   "cell_type": "code",
   "execution_count": 39,
   "id": "d5011c90-8395-43fa-985c-bd22a3aa7982",
   "metadata": {},
   "outputs": [
    {
     "name": "stdin",
     "output_type": "stream",
     "text": [
      "Enter Your Balance:  100\n",
      "Enter Amount You Want To GPay:  50\n"
     ]
    },
    {
     "name": "stdout",
     "output_type": "stream",
     "text": [
      "Remaining Balance =  50\n"
     ]
    }
   ],
   "source": [
    "x = int(input(\"Enter Your Balance: \"))\n",
    "y = int(input(\"Enter Amount You Want To GPay: \"))\n",
    "\n",
    "x = x - y\n",
    "print(\"Remaining Balance = \", x)"
   ]
  },
  {
   "cell_type": "code",
   "execution_count": 40,
   "id": "be5460fb-570f-4288-adbb-102fd26ab26b",
   "metadata": {},
   "outputs": [],
   "source": [
    "# 3. Print the first five letters of the English alphabet i.e. A, B, C, D and E. one below each other"
   ]
  },
  {
   "cell_type": "code",
   "execution_count": 41,
   "id": "1e0392f6-65bb-4f18-b929-7e0ac70a4958",
   "metadata": {},
   "outputs": [
    {
     "name": "stdout",
     "output_type": "stream",
     "text": [
      "A\n",
      "B\n",
      "C\n",
      "D\n",
      "E\n"
     ]
    }
   ],
   "source": [
    "print(\"A\\nB\\nC\\nD\\nE\")"
   ]
  },
  {
   "cell_type": "code",
   "execution_count": 42,
   "id": "e156ff85-daba-40a4-8d4a-f61471a01e22",
   "metadata": {},
   "outputs": [],
   "source": [
    "# 4. Take two names A and B as input from the user, and print \"A says Hi to B\" (Without quotations), where A and B are the names in input."
   ]
  },
  {
   "cell_type": "code",
   "execution_count": 43,
   "id": "471c46e0-7671-4225-a026-51346c17b3c1",
   "metadata": {},
   "outputs": [
    {
     "name": "stdin",
     "output_type": "stream",
     "text": [
      "Enter Name 1:  A\n",
      "Enter Name 2:  B\n"
     ]
    },
    {
     "name": "stdout",
     "output_type": "stream",
     "text": [
      "A says hi to B\n"
     ]
    }
   ],
   "source": [
    "A = input(\"Enter Name 1: \")\n",
    "B = input(\"Enter Name 2: \")\n",
    "\n",
    "print(A, \"says hi to\", B)"
   ]
  },
  {
   "cell_type": "code",
   "execution_count": null,
   "id": "5c6ae1e0-2626-42a5-8511-06afc652357c",
   "metadata": {},
   "outputs": [],
   "source": []
  }
 ],
 "metadata": {
  "kernelspec": {
   "display_name": "Python [conda env:base] *",
   "language": "python",
   "name": "conda-base-py"
  },
  "language_info": {
   "codemirror_mode": {
    "name": "ipython",
    "version": 3
   },
   "file_extension": ".py",
   "mimetype": "text/x-python",
   "name": "python",
   "nbconvert_exporter": "python",
   "pygments_lexer": "ipython3",
   "version": "3.13.5"
  }
 },
 "nbformat": 4,
 "nbformat_minor": 5
}
