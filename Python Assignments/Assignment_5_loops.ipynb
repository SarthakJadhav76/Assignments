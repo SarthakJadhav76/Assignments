{
 "cells": [
  {
   "cell_type": "code",
   "execution_count": 1,
   "id": "187a98dc-b55c-46bd-869a-a38acd523278",
   "metadata": {},
   "outputs": [],
   "source": [
    "# Problems on Loops"
   ]
  },
  {
   "cell_type": "code",
   "execution_count": 2,
   "id": "3c588701-ba42-458b-ad9a-7990d69d50a5",
   "metadata": {},
   "outputs": [],
   "source": [
    "# 1. Problem Description\n",
    "# Take T (number of test cases) as input.\n",
    "# For each test case, take integer N as input and Print the count of digits of that\n",
    "# number.\n",
    "# Note: No of digits for number 0 is considered as 1.\n",
    "# Problem Constraints\n",
    "# 1 <= T <= 10000 <= N <= 100000000"
   ]
  },
  {
   "cell_type": "code",
   "execution_count": 1,
   "id": "38103efb-5a76-40b1-b237-a18590f31284",
   "metadata": {},
   "outputs": [
    {
     "name": "stdin",
     "output_type": "stream",
     "text": [
      "Enter a number:  5\n",
      "Enter num:  0\n"
     ]
    },
    {
     "name": "stdout",
     "output_type": "stream",
     "text": [
      "1\n"
     ]
    },
    {
     "name": "stdin",
     "output_type": "stream",
     "text": [
      "Enter num:  0\n"
     ]
    },
    {
     "name": "stdout",
     "output_type": "stream",
     "text": [
      "1\n"
     ]
    },
    {
     "name": "stdin",
     "output_type": "stream",
     "text": [
      "Enter num:  000\n"
     ]
    },
    {
     "name": "stdout",
     "output_type": "stream",
     "text": [
      "1\n"
     ]
    },
    {
     "name": "stdin",
     "output_type": "stream",
     "text": [
      "Enter num:  0000000\n"
     ]
    },
    {
     "name": "stdout",
     "output_type": "stream",
     "text": [
      "1\n"
     ]
    },
    {
     "name": "stdin",
     "output_type": "stream",
     "text": [
      "Enter num:  22\n"
     ]
    },
    {
     "name": "stdout",
     "output_type": "stream",
     "text": [
      "2\n"
     ]
    }
   ],
   "source": [
    "t = int(input(\"Enter a number: \"))\n",
    "\n",
    "for i in range(t):\n",
    "    num = int(input(\"Enter num: \"))\n",
    "    if num == 0:\n",
    "        print(1)\n",
    "    else:\n",
    "        print(len(str(num)))"
   ]
  },
  {
   "cell_type": "markdown",
   "id": "62b3ed55-ed4b-463f-b6cc-d1255056f502",
   "metadata": {},
   "source": [
    "<!-- 2. Problem Description\n",
    "Write a program that accepts T numbers(N) from the user and find reverse of\n",
    "the given number(N).\n",
    "Problem Constraints\n",
    "1 <= T <= 100\n",
    "1 <= N <= 100000000 -->"
   ]
  },
  {
   "cell_type": "code",
   "execution_count": 2,
   "id": "45da728e-9d66-41b3-bd6d-e878e679da54",
   "metadata": {},
   "outputs": [],
   "source": [
    "# 2. Problem Description\n",
    "# Write a program that accepts T numbers(N) from the user and find reverse of\n",
    "# the given number(N).\n",
    "# Problem Constraints\n",
    "# 1 <= T <= 100\n",
    "# 1 <= N <= 100000000"
   ]
  },
  {
   "cell_type": "code",
   "execution_count": 6,
   "id": "2695225c-ab55-482a-94af-9bc748314497",
   "metadata": {},
   "outputs": [
    {
     "name": "stdin",
     "output_type": "stream",
     "text": [
      "Enter a number:  5\n",
      "Enter num:  1122\n"
     ]
    },
    {
     "name": "stdout",
     "output_type": "stream",
     "text": [
      "2211\n"
     ]
    },
    {
     "name": "stdin",
     "output_type": "stream",
     "text": [
      "Enter num:  57\n"
     ]
    },
    {
     "name": "stdout",
     "output_type": "stream",
     "text": [
      "75\n"
     ]
    },
    {
     "name": "stdin",
     "output_type": "stream",
     "text": [
      "Enter num:  554\n"
     ]
    },
    {
     "name": "stdout",
     "output_type": "stream",
     "text": [
      "455\n"
     ]
    },
    {
     "name": "stdin",
     "output_type": "stream",
     "text": [
      "Enter num:  4474\n"
     ]
    },
    {
     "name": "stdout",
     "output_type": "stream",
     "text": [
      "4744\n"
     ]
    },
    {
     "name": "stdin",
     "output_type": "stream",
     "text": [
      "Enter num:  788441\n"
     ]
    },
    {
     "name": "stdout",
     "output_type": "stream",
     "text": [
      "144887\n"
     ]
    }
   ],
   "source": [
    "T = int(input(\"Enter a number: \"))\n",
    "\n",
    "for i in range(T):\n",
    "    N = int(input(\"Enter num: \"))\n",
    "    rev = 0\n",
    "    \n",
    "    while N > 0:\n",
    "        digit = N % 10\n",
    "        rev = rev * 10 + digit\n",
    "        N = N // 10\n",
    "\n",
    "    print(rev)\n"
   ]
  },
  {
   "cell_type": "code",
   "execution_count": 10,
   "id": "91478389-2e94-4f23-b299-08f080c04347",
   "metadata": {},
   "outputs": [
    {
     "data": {
      "text/plain": [
       "112"
      ]
     },
     "execution_count": 10,
     "metadata": {},
     "output_type": "execute_result"
    }
   ],
   "source": [
    "1122//10\n"
   ]
  },
  {
   "cell_type": "code",
   "execution_count": 11,
   "id": "04bb3a97-0d0f-40d2-83e3-33595397d517",
   "metadata": {},
   "outputs": [],
   "source": [
    "# Take an integer N as input. Print the following pattern of N lines. For N =\n",
    "# 5 The following pattern is printed."
   ]
  },
  {
   "cell_type": "code",
   "execution_count": 27,
   "id": "7659a6e6-c44f-44da-b95f-9ddce32c668c",
   "metadata": {},
   "outputs": [
    {
     "name": "stdin",
     "output_type": "stream",
     "text": [
      "Enter a Number:  5\n"
     ]
    },
    {
     "name": "stdout",
     "output_type": "stream",
     "text": [
      "*     *\n",
      "*    *\n",
      "*   *\n",
      "*  *\n",
      "* *\n"
     ]
    }
   ],
   "source": [
    "N = int(input(\"Enter a Number: \"))\n",
    "\n",
    "for i in range(N,0,-1):\n",
    "    for j in range(0,i+2):\n",
    "        \n",
    "        if j == 0 or j == i + 1:\n",
    "            print(\"*\", end=\"\")\n",
    "        else:\n",
    "            print(\" \", end=\"\")\n",
    "\n",
    "            \n",
    "    print()"
   ]
  },
  {
   "cell_type": "code",
   "execution_count": 28,
   "id": "4beaa374-3770-4a62-a265-92535b7f03da",
   "metadata": {},
   "outputs": [],
   "source": [
    "# 2. Take an integer N as input, print the corresponding pattern for N.\n",
    "# For example if N = 5 then pattern will be like:"
   ]
  },
  {
   "cell_type": "code",
   "execution_count": 33,
   "id": "cc107e47-0f18-4fbd-831c-4abdc193e5c9",
   "metadata": {},
   "outputs": [
    {
     "name": "stdin",
     "output_type": "stream",
     "text": [
      "Enter a Number:  5\n"
     ]
    },
    {
     "name": "stdout",
     "output_type": "stream",
     "text": [
      "*****\n",
      "_****\n",
      "__***\n",
      "___**\n",
      "____*\n"
     ]
    }
   ],
   "source": [
    "N = int(input(\"Enter a Number: \"))\n",
    "\n",
    "for i in range(1, N+1):\n",
    "    for j in range(1, N+1):\n",
    "        if j >= i:\n",
    "            print(\"*\", end=\"\")\n",
    "        else:\n",
    "            print(\"_\", end=\"\")\n",
    "\n",
    "    print()"
   ]
  },
  {
   "cell_type": "code",
   "execution_count": 35,
   "id": "63fa110c-b629-4c04-9c5d-52a2a6e3b6da",
   "metadata": {},
   "outputs": [],
   "source": [
    "# 3. Take an integer N, print the corresponding Full Pyramid pattern for N.\n",
    "# For example if N = 5 then pattern will be like:\n",
    "#     *\n",
    "#    * *\n",
    "#   * * *\n",
    "#  * * * *\n",
    "# * * * * *"
   ]
  },
  {
   "cell_type": "code",
   "execution_count": 37,
   "id": "d7f65ff6-7f0a-4875-b8e5-2e78f6cd2e98",
   "metadata": {},
   "outputs": [
    {
     "name": "stdin",
     "output_type": "stream",
     "text": [
      "Enter a Number:  5\n"
     ]
    },
    {
     "name": "stdout",
     "output_type": "stream",
     "text": [
      "    * \n",
      "   * * \n",
      "  * * * \n",
      " * * * * \n",
      "* * * * * \n"
     ]
    }
   ],
   "source": [
    "N = int(input(\"Enter a Number: \"))\n",
    "\n",
    "for i in range(N):\n",
    "    print(\" \" * (N - i - 1) + \"* \" * (i + 1))"
   ]
  },
  {
   "cell_type": "code",
   "execution_count": 38,
   "id": "ed248460-66c4-4610-93e7-7f808384a330",
   "metadata": {},
   "outputs": [],
   "source": [
    "# 4. Take an integer N as input, print the corresponding pattern for N.\n",
    "# For example if N = 5 then pattern will be like:\n",
    "# 1\n",
    "# 1_\n",
    "# 1_3\n",
    "# 1_3_\n",
    "# 1_3_5"
   ]
  },
  {
   "cell_type": "code",
   "execution_count": 52,
   "id": "ff8e4d05-efd6-472c-a8db-c604e1d607d1",
   "metadata": {},
   "outputs": [
    {
     "name": "stdin",
     "output_type": "stream",
     "text": [
      "Enter a Number:  5\n"
     ]
    },
    {
     "name": "stdout",
     "output_type": "stream",
     "text": [
      "1    \n",
      "1_   \n",
      "1_3  \n",
      "1_3_ \n",
      "1_3_5\n"
     ]
    }
   ],
   "source": [
    "N = int(input(\"Enter a Number: \"))\n",
    "\n",
    "for i in range(1, N+1):\n",
    "    for j in range(1, N+1):\n",
    "        if j <= i:\n",
    "            if j % 2 == 0:\n",
    "                print(\"_\", end=\"\")\n",
    "            else:\n",
    "                print(j,end=\"\")\n",
    "        else:\n",
    "            print(\" \", end=\"\")\n",
    "\n",
    "    print()"
   ]
  },
  {
   "cell_type": "code",
   "execution_count": 55,
   "id": "bcc7bec7-e399-46f4-b6ef-28cae38de542",
   "metadata": {},
   "outputs": [
    {
     "name": "stdin",
     "output_type": "stream",
     "text": [
      " 5\n"
     ]
    },
    {
     "name": "stdout",
     "output_type": "stream",
     "text": [
      "1\n",
      "1_\n",
      "1_3\n",
      "1_3_\n",
      "1_3_5\n"
     ]
    }
   ],
   "source": [
    "def main():\n",
    "   \n",
    "    n=int(input())\n",
    "    for r in range(1,n+1):\n",
    "        for j in range(1,r+1):\n",
    "            if j %2!=0:\n",
    "                print(j,end= \"\")\n",
    "            else:\n",
    "                print(\"_\",end=\"\")\n",
    "        print()\n",
    "    \n",
    "    return 0\n",
    "    \n",
    "if __name__ == '__main__':\n",
    "    main()"
   ]
  },
  {
   "cell_type": "code",
   "execution_count": 57,
   "id": "f1d44ed7-0792-4c39-b5f3-fb3ab74c8bd5",
   "metadata": {},
   "outputs": [],
   "source": [
    "# 5. Take an Integer N as input. Print an Inverse half pyramid\n",
    "# of N lines using * .\n",
    "# For example for N = 5, the output should be the following pattern:-\n",
    "\n",
    "# *****\n",
    "# ****\n",
    "# ***\n",
    "# **\n",
    "# *"
   ]
  },
  {
   "cell_type": "code",
   "execution_count": 63,
   "id": "5002bab0-515e-481c-aa3c-d37ca0e8bea6",
   "metadata": {},
   "outputs": [
    {
     "name": "stdin",
     "output_type": "stream",
     "text": [
      "Enter a Number:  5\n"
     ]
    },
    {
     "name": "stdout",
     "output_type": "stream",
     "text": [
      "\n",
      " 1st \n",
      "\n",
      "*****\n",
      "**** \n",
      "***  \n",
      "**   \n",
      "*    \n",
      "\n",
      " 2nd \n",
      "\n",
      "*****\n",
      "****\n",
      "***\n",
      "**\n",
      "*\n"
     ]
    }
   ],
   "source": [
    "N = int(input(\"Enter a Number: \"))\n",
    "\n",
    "print(\"\\n 1st \\n\")\n",
    "\n",
    "for i in range(1, N+1):\n",
    "    for j in range(N, 0, -1):\n",
    "        if j >= i:\n",
    "            print(\"*\", end=\"\")\n",
    "        else:\n",
    "            print(\" \", end=\"\")\n",
    "\n",
    "    print()\n",
    "    \n",
    "print(\"\\n 2nd \\n\")\n",
    "\n",
    "for i in range(N, 0, -1):\n",
    "    print(\"*\" * i)"
   ]
  },
  {
   "cell_type": "code",
   "execution_count": 64,
   "id": "74197507-f692-4793-8ec3-db3e0bbb7f38",
   "metadata": {},
   "outputs": [],
   "source": [
    "# 6. Take an integer N as input, print the corresponding pattern for N.\n",
    "# For example if N = 5 then pattern will be like:\n",
    "\n",
    "# ____*\n",
    "# ___**\n",
    "# __***\n",
    "# _****\n",
    "# *****"
   ]
  },
  {
   "cell_type": "code",
   "execution_count": 77,
   "id": "2fd9e017-3cd7-4e46-ab33-2ccb36fc85b4",
   "metadata": {},
   "outputs": [
    {
     "name": "stdin",
     "output_type": "stream",
     "text": [
      "Enter a Number:  5\n"
     ]
    },
    {
     "name": "stdout",
     "output_type": "stream",
     "text": [
      "\n",
      " 1st \n",
      "\n",
      "____*\n",
      "___**\n",
      "__***\n",
      "_****\n",
      "*****\n",
      "\n",
      " 2nd \n",
      "\n",
      "____*\n",
      "___**\n",
      "__***\n",
      "_****\n",
      "*****\n"
     ]
    }
   ],
   "source": [
    "N = int(input(\"Enter a Number: \"))\n",
    "\n",
    "print(\"\\n 1st \\n\")\n",
    "\n",
    "for i in range(1, N+1):\n",
    "    for j in range(N, 0, -1):\n",
    "        if j <= i:\n",
    "            print(\"*\", end=\"\")\n",
    "        else:\n",
    "            print(\"_\", end=\"\")\n",
    "\n",
    "    print()\n",
    "\n",
    "print(\"\\n 2nd \\n\")\n",
    "\n",
    "for i in range(N, 0, -1):\n",
    "    print(\"_\" * (i - 1) + \"*\" * (N - i + 1))"
   ]
  },
  {
   "cell_type": "code",
   "execution_count": null,
   "id": "791a8dc0-b4ae-47fd-bc22-33db4342a489",
   "metadata": {},
   "outputs": [],
   "source": []
  }
 ],
 "metadata": {
  "kernelspec": {
   "display_name": "Python [conda env:base] *",
   "language": "python",
   "name": "conda-base-py"
  },
  "language_info": {
   "codemirror_mode": {
    "name": "ipython",
    "version": 3
   },
   "file_extension": ".py",
   "mimetype": "text/x-python",
   "name": "python",
   "nbconvert_exporter": "python",
   "pygments_lexer": "ipython3",
   "version": "3.13.5"
  }
 },
 "nbformat": 4,
 "nbformat_minor": 5
}
