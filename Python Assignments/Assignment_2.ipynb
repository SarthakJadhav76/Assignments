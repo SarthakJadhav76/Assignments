{
 "cells": [
  {
   "cell_type": "code",
   "execution_count": 1,
   "id": "20df0744-0c2e-421e-9e7c-a60b691121b3",
   "metadata": {},
   "outputs": [],
   "source": [
    "# Question 1:\n",
    "# Create a variable age and assign it the value 25 . Then print the value of\n",
    "# age along with its data type using the type() function."
   ]
  },
  {
   "cell_type": "code",
   "execution_count": 2,
   "id": "c5cb7f8f-5f0b-4919-868a-7d0756762abb",
   "metadata": {},
   "outputs": [
    {
     "name": "stdout",
     "output_type": "stream",
     "text": [
      "25\n",
      "<class 'int'>\n"
     ]
    }
   ],
   "source": [
    "age = 25\n",
    "print(age)\n",
    "print(type(age))"
   ]
  },
  {
   "cell_type": "code",
   "execution_count": 3,
   "id": "2641a67f-d568-44f2-b6ae-dde93955a4ff",
   "metadata": {},
   "outputs": [],
   "source": [
    "# Question 2:\n",
    "# Assign the number 12.5 to a variable price . Print both the variable and its\n",
    "# data type. Then assign the value 12 to the same variable and print its data\n",
    "# type again. What do you observe?"
   ]
  },
  {
   "cell_type": "code",
   "execution_count": 6,
   "id": "1b384a8e-deaa-43f8-9767-27d40e0a2524",
   "metadata": {},
   "outputs": [
    {
     "name": "stdout",
     "output_type": "stream",
     "text": [
      "12.5\n",
      "<class 'float'>\n",
      "12\n",
      "<class 'int'>\n"
     ]
    }
   ],
   "source": [
    "price = 12.5\n",
    "print(price)\n",
    "print(type(price))\n",
    "price = 12\n",
    "print(price)\n",
    "print(type(price))"
   ]
  },
  {
   "cell_type": "code",
   "execution_count": 7,
   "id": "80614e8c-8f1b-4be5-a191-1fdb28ddbda1",
   "metadata": {},
   "outputs": [],
   "source": [
    "# Question 3:\n",
    "# Create a variable is_raining and set it to True . Print the value of the variable\n",
    "# along with its type. Then set is_raining to False and print the new value and\n",
    "# type."
   ]
  },
  {
   "cell_type": "code",
   "execution_count": 9,
   "id": "66671b00-fe8e-4870-a961-5b7baf1d1501",
   "metadata": {},
   "outputs": [
    {
     "name": "stdout",
     "output_type": "stream",
     "text": [
      "True\n",
      "<class 'bool'>\n",
      "False\n",
      "<class 'bool'>\n"
     ]
    }
   ],
   "source": [
    "is_raining = True\n",
    "print(is_raining)\n",
    "print(type(is_raining))\n",
    "is_raining = False\n",
    "print(is_raining)\n",
    "print(type(is_raining))"
   ]
  },
  {
   "cell_type": "code",
   "execution_count": 10,
   "id": "424ca1a4-767b-44ec-9fb2-d77fc473e627",
   "metadata": {},
   "outputs": [],
   "source": [
    "# Question 4:\n",
    "# Create a variable my_name and store your full name in it as a string. Then\n",
    "# print the value of my_name using single quotes ' ."
   ]
  },
  {
   "cell_type": "code",
   "execution_count": 13,
   "id": "e83da14c-d935-4b77-a997-c9586b42fa96",
   "metadata": {},
   "outputs": [
    {
     "name": "stdout",
     "output_type": "stream",
     "text": [
      "'Sarthak Prabhashankar Jadhav'\n",
      "' Sarthak Prabhashankar Jadhav '\n"
     ]
    }
   ],
   "source": [
    "my_name = 'Sarthak Prabhashankar Jadhav'\n",
    "print(f\"'{my_name}'\")\n",
    "print(\"'\", my_name, \"'\")"
   ]
  },
  {
   "cell_type": "code",
   "execution_count": 15,
   "id": "af67444f-3a25-496c-be62-c29f64b4c110",
   "metadata": {},
   "outputs": [],
   "source": [
    "# Question 5:\n",
    "# Write a Python program that asks the user for their name and age using the\n",
    "# input() function. Store the inputs in variables and print a sentence like\n",
    "# \"Hello, [Name]! You are [Age] years old.\" Ensure you cast the age to an\n",
    "# integer."
   ]
  },
  {
   "cell_type": "code",
   "execution_count": 17,
   "id": "3f0eeb87-4c0a-40ce-934f-871e05737aab",
   "metadata": {},
   "outputs": [
    {
     "name": "stdin",
     "output_type": "stream",
     "text": [
      "Enter Name:  Sarthak\n",
      "Enter Age:  21\n"
     ]
    },
    {
     "name": "stdout",
     "output_type": "stream",
     "text": [
      "Hello, Sarthak ! You are 21 years old.\n",
      "Hello, Sarthak! You are 21 years old.\n"
     ]
    }
   ],
   "source": [
    "name = input(\"Enter Name: \")\n",
    "age = int(input(\"Enter Age: \"))\n",
    "\n",
    "print(\"Hello,\", name, \"! You are\", age, \"years old.\")\n",
    "print(f\"Hello, {name}! You are {age} years old.\")"
   ]
  },
  {
   "cell_type": "code",
   "execution_count": 18,
   "id": "1b9f94ab-ff38-43cd-906f-08d57a28825d",
   "metadata": {},
   "outputs": [],
   "source": [
    "# Question 6:\n",
    "# Create two variables x and y and assign them the values 10 and 3.5 ,\n",
    "# respectively. Print their values and types. Then, create a new variable\n",
    "# sum_xy and store the sum of x and y . Print the result and its type."
   ]
  },
  {
   "cell_type": "code",
   "execution_count": 20,
   "id": "f5493b65-de13-435d-8cf6-1f4da5230c20",
   "metadata": {},
   "outputs": [
    {
     "name": "stdout",
     "output_type": "stream",
     "text": [
      "10\n",
      "<class 'int'>\n",
      "3.5\n",
      "<class 'float'>\n",
      "13.5\n",
      "<class 'float'>\n"
     ]
    }
   ],
   "source": [
    "x = 10\n",
    "y = 3.5\n",
    "print(x)\n",
    "print(type(x))\n",
    "print(y)\n",
    "print(type(y))\n",
    "\n",
    "sum_xy = x + y\n",
    "print(sum_xy)\n",
    "print(type(sum_xy))"
   ]
  },
  {
   "cell_type": "code",
   "execution_count": 21,
   "id": "2340edf7-130a-4f7b-ac66-3516743d8673",
   "metadata": {},
   "outputs": [],
   "source": [
    "# Question 7:\n",
    "# Using the type() function, check and print the data type of the following:\n",
    "# 45.0\n",
    "# \"hello\"\n",
    "# None\n",
    "# False"
   ]
  },
  {
   "cell_type": "code",
   "execution_count": 22,
   "id": "7a512966-4c54-4160-bcd5-1977ddc7f388",
   "metadata": {},
   "outputs": [
    {
     "name": "stdout",
     "output_type": "stream",
     "text": [
      "<class 'float'>\n",
      "<class 'str'>\n",
      "<class 'NoneType'>\n",
      "<class 'bool'>\n"
     ]
    }
   ],
   "source": [
    "print(type(45.0))\n",
    "print(type(\"hello\"))\n",
    "print(type(None))\n",
    "print(type(False))"
   ]
  },
  {
   "cell_type": "code",
   "execution_count": 23,
   "id": "13bcdf28-a519-4b1b-8c87-3482d09abb10",
   "metadata": {},
   "outputs": [],
   "source": [
    "# Question 8:\n",
    "# Write a Python program to print three strings \"apple\" , \"banana\" , and \"cherry\"\n",
    "# on the same line, separated by a space. Then modify the program to\n",
    "# separate the strings using a comma , instead of a space."
   ]
  },
  {
   "cell_type": "code",
   "execution_count": 34,
   "id": "7cfc3f58-27f8-48c4-b6df-7bf700e89e13",
   "metadata": {},
   "outputs": [
    {
     "name": "stdout",
     "output_type": "stream",
     "text": [
      "apple banana cherry\n",
      "apple, banana, cherry\n"
     ]
    }
   ],
   "source": [
    "print(\"apple\", \"banana\", \"cherry\")\n",
    "print(\"apple\", \"banana\", \"cherry\", sep=\", \")"
   ]
  },
  {
   "cell_type": "code",
   "execution_count": 35,
   "id": "123634f9-0be4-4c0c-a82c-0d3e1c368dee",
   "metadata": {},
   "outputs": [],
   "source": [
    "# Question 9:\n",
    "# Create a variable big_number and assign it a very large integer value (e.g.,\n",
    "# 987654321987654321 ). Print the value and its type. What do you notice about\n",
    "# the size of the number?"
   ]
  },
  {
   "cell_type": "code",
   "execution_count": 36,
   "id": "b933b357-b817-42d0-807e-80543c505f5c",
   "metadata": {},
   "outputs": [
    {
     "name": "stdout",
     "output_type": "stream",
     "text": [
      "987654321987654321\n",
      "<class 'int'>\n"
     ]
    }
   ],
   "source": [
    "big_number = 987654321987654321\n",
    "print(big_number)\n",
    "print(type(big_number))"
   ]
  },
  {
   "cell_type": "code",
   "execution_count": 38,
   "id": "c50a7c4b-d401-469e-9002-50043a2a03d9",
   "metadata": {},
   "outputs": [],
   "source": [
    "# Question 10:\n",
    "# Write a Python program that prints the result of multiplying two floats (e.g.,\n",
    "# 2.5 and 3.7 ). Then check and print the data type of the result."
   ]
  },
  {
   "cell_type": "code",
   "execution_count": 39,
   "id": "bc273f32-dddc-4f49-900d-821d8e76a732",
   "metadata": {},
   "outputs": [
    {
     "name": "stdout",
     "output_type": "stream",
     "text": [
      "9.25\n",
      "<class 'float'>\n"
     ]
    }
   ],
   "source": [
    "print(2.5 * 3.7)\n",
    "print(type(2.5 * 3.7))"
   ]
  },
  {
   "cell_type": "code",
   "execution_count": null,
   "id": "5087abe5-0a20-4c13-813e-90dcbed53e86",
   "metadata": {},
   "outputs": [],
   "source": []
  }
 ],
 "metadata": {
  "kernelspec": {
   "display_name": "Python [conda env:base] *",
   "language": "python",
   "name": "conda-base-py"
  },
  "language_info": {
   "codemirror_mode": {
    "name": "ipython",
    "version": 3
   },
   "file_extension": ".py",
   "mimetype": "text/x-python",
   "name": "python",
   "nbconvert_exporter": "python",
   "pygments_lexer": "ipython3",
   "version": "3.13.5"
  }
 },
 "nbformat": 4,
 "nbformat_minor": 5
}
