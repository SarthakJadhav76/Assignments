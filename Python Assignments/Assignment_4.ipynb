{
 "cells": [
  {
   "cell_type": "code",
   "execution_count": 1,
   "id": "3f480801-88b9-437e-9a53-daddc894490b",
   "metadata": {},
   "outputs": [],
   "source": [
    "# Question 1:\n",
    "# Write a Python program that checks if a number entered by the user is even\n",
    "# or odd. Print \"Even\" if the number is even and \"Odd\" if it is odd."
   ]
  },
  {
   "cell_type": "code",
   "execution_count": 13,
   "id": "f93861fc-ac8b-4865-9100-fa32e26abbcb",
   "metadata": {},
   "outputs": [
    {
     "name": "stdin",
     "output_type": "stream",
     "text": [
      "Enter a Number:  4\n"
     ]
    },
    {
     "name": "stdout",
     "output_type": "stream",
     "text": [
      "Even\n"
     ]
    }
   ],
   "source": [
    "num = int(input(\"Enter a Number: \"))\n",
    "\n",
    "if num % 2 == 0:\n",
    "    print(\"Even\")\n",
    "else:\n",
    "    print(\"Odd\")"
   ]
  },
  {
   "cell_type": "code",
   "execution_count": 2,
   "id": "762c0b65-8739-4ecc-87fa-8d40eb6d9be6",
   "metadata": {},
   "outputs": [],
   "source": [
    "# Question 2:\n",
    "# Create a program that prompts the user for their age and prints whether\n",
    "# they are a child (0-12), teenager (13-19), or adult (20 and above)."
   ]
  },
  {
   "cell_type": "code",
   "execution_count": 18,
   "id": "77452a2a-8ce0-47f4-ad35-a40baa45041f",
   "metadata": {},
   "outputs": [
    {
     "name": "stdin",
     "output_type": "stream",
     "text": [
      "Enter Your Age:  20\n"
     ]
    },
    {
     "name": "stdout",
     "output_type": "stream",
     "text": [
      "Adult\n"
     ]
    }
   ],
   "source": [
    "age = int(input(\"Enter Your Age: \"))\n",
    "\n",
    "if 0 <= age <= 12:\n",
    "    print(\"Child\")\n",
    "elif 13 <= age <= 19:\n",
    "    print(\"Teenager\")\n",
    "elif age >= 20:\n",
    "    print(\"Adult\")\n",
    "else:\n",
    "    print(\"Wrong Input\")"
   ]
  },
  {
   "cell_type": "code",
   "execution_count": 3,
   "id": "d84ceadd-bf8e-45d9-9ff4-f19fee641860",
   "metadata": {},
   "outputs": [],
   "source": [
    "# Question 3:\n",
    "# Write a program that takes two numbers as input from the user and prints\n",
    "# which number is larger. If both numbers are equal, print \"Both numbers are\n",
    "# equal.\""
   ]
  },
  {
   "cell_type": "code",
   "execution_count": 22,
   "id": "b486e320-b7a5-4837-a459-edb701a21aaa",
   "metadata": {},
   "outputs": [
    {
     "name": "stdin",
     "output_type": "stream",
     "text": [
      "Enter Number 1:  8\n",
      "Enter Number 2:  8\n"
     ]
    },
    {
     "name": "stdout",
     "output_type": "stream",
     "text": [
      "Both numbers are equal.\n"
     ]
    }
   ],
   "source": [
    "num_1 = int(input(\"Enter Number 1: \"))\n",
    "num_2 = int(input(\"Enter Number 2: \"))\n",
    "\n",
    "if num_1 == num_2:\n",
    "    print(\"Both numbers are equal.\")\n",
    "else:\n",
    "    print(\"Bigger Number is =\", max(num_1, num_2))"
   ]
  },
  {
   "cell_type": "code",
   "execution_count": 4,
   "id": "5c0eee75-e23b-4854-86f2-6b4a4164a14e",
   "metadata": {},
   "outputs": [],
   "source": [
    "# Question 4:\n",
    "# Create a program that checks if a user-entered password matches the\n",
    "# string \"securePassword\". Print \"Access Granted\" if it matches, otherwise\n",
    "# print \"Access Denied.\""
   ]
  },
  {
   "cell_type": "code",
   "execution_count": 23,
   "id": "8ac9eca3-efb8-4500-932d-2cc12004c6cf",
   "metadata": {},
   "outputs": [
    {
     "name": "stdin",
     "output_type": "stream",
     "text": [
      "Enter Password:  44dffdsf\n"
     ]
    },
    {
     "name": "stdout",
     "output_type": "stream",
     "text": [
      "Access Denied!!\n"
     ]
    }
   ],
   "source": [
    "ask_pass = input(\"Enter Password: \")\n",
    "\n",
    "password = \"securePassword\"\n",
    "\n",
    "if ask_pass == password:\n",
    "    print(\"Access Granted.\")\n",
    "else:\n",
    "    print(\"Access Denied!!\")"
   ]
  },
  {
   "cell_type": "code",
   "execution_count": 5,
   "id": "64a9d994-6135-4b1e-86dc-738cd2808ed0",
   "metadata": {},
   "outputs": [],
   "source": [
    "# Question 5:\n",
    "# Write a program that takes a score from the user (0-100) and prints the\n",
    "# corresponding grade:\n",
    "# A for 90-100\n",
    "# B for 80-89\n",
    "# C for 70-79\n",
    "# D for 60-69\n",
    "# F for below 60"
   ]
  },
  {
   "cell_type": "code",
   "execution_count": 25,
   "id": "95a87b23-7d16-4d5c-8b19-d09a3e524b95",
   "metadata": {},
   "outputs": [
    {
     "name": "stdin",
     "output_type": "stream",
     "text": [
      "Enter a score between(0-100):  80\n"
     ]
    },
    {
     "name": "stdout",
     "output_type": "stream",
     "text": [
      "Grade = B\n"
     ]
    }
   ],
   "source": [
    "marks = int(input(\"Enter a score between(0-100): \"))\n",
    "\n",
    "if 90 <= marks <= 100:\n",
    "    grade = \"A\"\n",
    "elif 80 <= marks <= 89:\n",
    "    grade = \"B\"\n",
    "elif 70 <= marks <= 79:\n",
    "    grade = \"C\"\n",
    "elif 60 <= marks <= 69:\n",
    "    grade = \"D\"\n",
    "elif 0 <= marks <= 59:\n",
    "    grade = \"F\"\n",
    "else:\n",
    "    print(\"Wrong Input!!!\")\n",
    "\n",
    "print(\"Grade =\", grade)"
   ]
  },
  {
   "cell_type": "code",
   "execution_count": 6,
   "id": "660c6dd1-b059-48bb-b5e5-e11c3aa459a4",
   "metadata": {},
   "outputs": [],
   "source": [
    "# Question 6:\n",
    "# Create a program that asks the user for a number and checks if it is\n",
    "# positive, negative, or zero. Print the corresponding message."
   ]
  },
  {
   "cell_type": "code",
   "execution_count": 36,
   "id": "724feda7-bcc0-4919-81c6-ecaa4cf16b75",
   "metadata": {},
   "outputs": [
    {
     "name": "stdin",
     "output_type": "stream",
     "text": [
      "Enter a number:  -3.25\n"
     ]
    },
    {
     "name": "stdout",
     "output_type": "stream",
     "text": [
      "Negative\n"
     ]
    }
   ],
   "source": [
    "num = float(input(\"Enter a number: \"))\n",
    "\n",
    "if num == 0:\n",
    "    print(\"Zero\")\n",
    "elif num > 0:\n",
    "    print(\"Positive\")\n",
    "else:\n",
    "    print(\"Negative\")"
   ]
  },
  {
   "cell_type": "code",
   "execution_count": 7,
   "id": "571d07b2-94fd-441f-8376-72661156ede8",
   "metadata": {},
   "outputs": [],
   "source": [
    "# Question 7:\n",
    "# Write a program that takes three numbers from the user and determines the\n",
    "# largest of the three. Print the largest number."
   ]
  },
  {
   "cell_type": "code",
   "execution_count": 37,
   "id": "97c7c23f-655b-4d05-a15a-f8682afa79e8",
   "metadata": {},
   "outputs": [
    {
     "name": "stdin",
     "output_type": "stream",
     "text": [
      "Enter a number 1:  10\n",
      "Enter a number 2:  20\n",
      "Enter a number 3:  30\n"
     ]
    },
    {
     "name": "stdout",
     "output_type": "stream",
     "text": [
      "Largest Number Is: 30.0\n"
     ]
    }
   ],
   "source": [
    "num1 = float(input(\"Enter a number 1: \"))\n",
    "num2 = float(input(\"Enter a number 2: \"))\n",
    "num3 = float(input(\"Enter a number 3: \"))\n",
    "\n",
    "result = max(num1, num2, num3)\n",
    "\n",
    "print(\"Largest Number Is:\", result)"
   ]
  },
  {
   "cell_type": "code",
   "execution_count": 8,
   "id": "40c55c1e-28cf-45ba-a149-9c3f45da975f",
   "metadata": {},
   "outputs": [],
   "source": [
    "# Question 8:\n",
    "# Create a program that checks if a user-entered character is a vowel (a, e, i,\n",
    "# o, u) or a consonant. Print the corresponding message."
   ]
  },
  {
   "cell_type": "code",
   "execution_count": 44,
   "id": "bb311a6b-aa0e-4619-a7f3-8000a5928f31",
   "metadata": {},
   "outputs": [
    {
     "name": "stdin",
     "output_type": "stream",
     "text": [
      "Enter a character:  b\n"
     ]
    },
    {
     "name": "stdout",
     "output_type": "stream",
     "text": [
      "b Is a Consonent\n"
     ]
    }
   ],
   "source": [
    "character = input(\"Enter a character: \")\n",
    "\n",
    "if character == \"a\" or character == \"e\" or character == \"i\" or character == \"o\" or character == \"u\":\n",
    "    print(f\"{character} Is vowel.\")\n",
    "else:\n",
    "    print(f\"{character} Is a Consonent\")"
   ]
  },
  {
   "cell_type": "code",
   "execution_count": 9,
   "id": "40e7b32b-a1a9-46de-af54-676a5c37ef9d",
   "metadata": {},
   "outputs": [],
   "source": [
    "# Question 9:\n",
    "# Write a program that checks if a given year is a leap year. A year is a leap\n",
    "# year if it is divisible by 4, except for years that are divisible by 100 but not\n",
    "# divisible by 400."
   ]
  },
  {
   "cell_type": "code",
   "execution_count": 48,
   "id": "f10a5eeb-678a-4bb6-a69a-ec77cb8f76e8",
   "metadata": {},
   "outputs": [
    {
     "name": "stdin",
     "output_type": "stream",
     "text": [
      "Enter a Year:  2300\n"
     ]
    },
    {
     "name": "stdout",
     "output_type": "stream",
     "text": [
      "2300 is not a leap year\n"
     ]
    }
   ],
   "source": [
    "year = int(input(\"Enter a Year: \"))\n",
    "\n",
    "if year % 4 == 0:\n",
    "    if year % 400 == 0:\n",
    "        print(f\"{year} is a leap year\")\n",
    "    elif year % 100 == 0:\n",
    "        print(f\"{year} is not a leap year\")\n",
    "    else:\n",
    "        print(f\"{year} is a leap year\")"
   ]
  },
  {
   "cell_type": "code",
   "execution_count": 10,
   "id": "f9d1624a-4d75-4ef2-b61e-e19e4b8d8afe",
   "metadata": {},
   "outputs": [],
   "source": [
    "# Question 10:\n",
    "# Create a program that prompts the user for a temperature in Celsius and\n",
    "# converts it to Fahrenheit. If the converted temperature is greater than 100°F,\n",
    "# print \"It's boiling!\" Otherwise, print \"It's not boiling yet.\""
   ]
  },
  {
   "cell_type": "code",
   "execution_count": 53,
   "id": "ecf3c143-bf4c-456d-9d82-8a1f67b9b3b0",
   "metadata": {},
   "outputs": [
    {
     "name": "stdin",
     "output_type": "stream",
     "text": [
      "Enter Temperature in Celsius:  37.777777777777\n"
     ]
    },
    {
     "name": "stdout",
     "output_type": "stream",
     "text": [
      "It's not boiling yet\n"
     ]
    }
   ],
   "source": [
    "temp = float(input(\"Enter Temperature in Celsius: \"))\n",
    "\n",
    "fah = ((temp * 9) / 5) + 32\n",
    "\n",
    "if fah > 100:\n",
    "    print(\"It's boiling!\")\n",
    "else:\n",
    "    print(\"It's not boiling yet\")"
   ]
  },
  {
   "cell_type": "code",
   "execution_count": null,
   "id": "a70b6427-7975-4ab4-91c1-f45b416e954e",
   "metadata": {},
   "outputs": [],
   "source": []
  }
 ],
 "metadata": {
  "kernelspec": {
   "display_name": "Python [conda env:base] *",
   "language": "python",
   "name": "conda-base-py"
  },
  "language_info": {
   "codemirror_mode": {
    "name": "ipython",
    "version": 3
   },
   "file_extension": ".py",
   "mimetype": "text/x-python",
   "name": "python",
   "nbconvert_exporter": "python",
   "pygments_lexer": "ipython3",
   "version": "3.13.5"
  }
 },
 "nbformat": 4,
 "nbformat_minor": 5
}
