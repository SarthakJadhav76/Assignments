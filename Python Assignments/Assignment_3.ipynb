{
 "cells": [
  {
   "cell_type": "code",
   "execution_count": 11,
   "id": "6ebef475-ff2c-4b1e-9a16-c69487c0ede4",
   "metadata": {},
   "outputs": [],
   "source": [
    "# Question 1:\n",
    "# Create a variable x with the value 15 . Perform floored division by 4 and\n",
    "# print the result. What is the difference between floored division and normal\n",
    "# division?"
   ]
  },
  {
   "cell_type": "code",
   "execution_count": 23,
   "id": "a12e9fa0-e2e7-4aa2-957a-f0a67a58df5a",
   "metadata": {},
   "outputs": [
    {
     "name": "stdout",
     "output_type": "stream",
     "text": [
      "3.75\n",
      "3\n"
     ]
    }
   ],
   "source": [
    "x = 15\n",
    "print(15/4)\n",
    "print(15//4)"
   ]
  },
  {
   "cell_type": "code",
   "execution_count": 12,
   "id": "af9be812-9b00-4bfd-84d8-91d580782cdf",
   "metadata": {},
   "outputs": [],
   "source": [
    "# Question 2:\n",
    "# Write a program to calculate 8 ** 2 and 16 ** 0.5 . Print both results and\n",
    "# describe what each represents."
   ]
  },
  {
   "cell_type": "code",
   "execution_count": 26,
   "id": "f03baba8-e830-4090-be1d-cff3b3c09307",
   "metadata": {},
   "outputs": [
    {
     "name": "stdout",
     "output_type": "stream",
     "text": [
      "64 Square Of 8\n",
      "4.0 Square Root Of 16\n"
     ]
    }
   ],
   "source": [
    "print(8 ** 2, \"Square Of 8\")\n",
    "print(16 ** 0.5, \"Square Root Of 16\")"
   ]
  },
  {
   "cell_type": "code",
   "execution_count": 27,
   "id": "4c79569d-7a47-4268-89d2-a088664f6ced",
   "metadata": {},
   "outputs": [],
   "source": [
    "# Question 3:\n",
    "# Use arithmetic operators to solve the following expression: 20 - 5 * 3 + 8 / 4.\n",
    "# Use parentheses to make sure the addition happens before multiplication.\n",
    "# Print the output."
   ]
  },
  {
   "cell_type": "code",
   "execution_count": 31,
   "id": "a2c9f1a8-d706-4ada-8543-33397918ec7f",
   "metadata": {},
   "outputs": [
    {
     "name": "stdout",
     "output_type": "stream",
     "text": [
      "6.25\n"
     ]
    }
   ],
   "source": [
    "result = 20 - (5 * ((3 + 8)/4))\n",
    "print(result)"
   ]
  },
  {
   "cell_type": "code",
   "execution_count": 14,
   "id": "77f34455-f5e6-45ec-8c21-e4ee00f594b6",
   "metadata": {},
   "outputs": [],
   "source": [
    "# Question 4:\n",
    "# Assign the value 7 to a variable num . Convert it to a float and print the\n",
    "# result. What is the difference between 7 and 7.0 ?"
   ]
  },
  {
   "cell_type": "code",
   "execution_count": 34,
   "id": "6a7cee4e-6f74-45e6-a2b5-81fca061ec27",
   "metadata": {},
   "outputs": [
    {
     "name": "stdout",
     "output_type": "stream",
     "text": [
      "7.0\n"
     ]
    }
   ],
   "source": [
    "num = 7\n",
    "result = float(num)\n",
    "print(result)"
   ]
  },
  {
   "cell_type": "code",
   "execution_count": 15,
   "id": "313865a6-ab80-4774-a56d-8ff5292c1516",
   "metadata": {},
   "outputs": [],
   "source": [
    "# Question 5:\n",
    "# Use a comparison operator to check if 100 is greater than 50 . Print the\n",
    "# result and indicate what type of value this is."
   ]
  },
  {
   "cell_type": "code",
   "execution_count": 36,
   "id": "422841f5-6039-45f6-89aa-169b0d9a2eb8",
   "metadata": {},
   "outputs": [
    {
     "name": "stdout",
     "output_type": "stream",
     "text": [
      "True\n",
      "<class 'bool'>\n"
     ]
    }
   ],
   "source": [
    "result = 100 > 50\n",
    "print(result)\n",
    "print(type(result))"
   ]
  },
  {
   "cell_type": "code",
   "execution_count": 16,
   "id": "b487afd9-8c42-4d9c-a614-f2b6e0536ae1",
   "metadata": {},
   "outputs": [],
   "source": [
    "# Question 6:\n",
    "# Assign True to a variable is_sunny and False to is_weekend . Use logical\n",
    "# operators to check if it is sunny and the weekend ( is_sunny and is_weekend ).\n",
    "# Print the result."
   ]
  },
  {
   "cell_type": "code",
   "execution_count": 38,
   "id": "2bd78908-8300-47eb-af13-5f724daf8b93",
   "metadata": {},
   "outputs": [
    {
     "name": "stdout",
     "output_type": "stream",
     "text": [
      "It is not sunny and weekend\n"
     ]
    }
   ],
   "source": [
    "is_sunny = True\n",
    "is_weekend = False\n",
    "\n",
    "if is_sunny and is_weekend:\n",
    "    print(\"It is sunny and it is weekend\")\n",
    "else:\n",
    "    print(\"It is not sunny and weekend\")"
   ]
  },
  {
   "cell_type": "code",
   "execution_count": 17,
   "id": "71e5ca48-57b8-4182-abc4-0b5fdd786d9f",
   "metadata": {},
   "outputs": [],
   "source": [
    "# Question 7:\n",
    "# Create a variable password and set it to \"my_password123\" . Ask the user to input\n",
    "# a password and print True if the input matches the value of password ,\n",
    "# otherwise print False ."
   ]
  },
  {
   "cell_type": "code",
   "execution_count": 41,
   "id": "13f2288e-10da-49bc-8104-958754167dc0",
   "metadata": {},
   "outputs": [
    {
     "name": "stdin",
     "output_type": "stream",
     "text": [
      "Enter Password:  my_password123\n"
     ]
    },
    {
     "name": "stdout",
     "output_type": "stream",
     "text": [
      "True\n"
     ]
    }
   ],
   "source": [
    "password = \"my_password123\"\n",
    "\n",
    "ask_pass = input(\"Enter Password: \")\n",
    "\n",
    "if ask_pass == password:\n",
    "    print(True)\n",
    "else:\n",
    "    print(False)"
   ]
  },
  {
   "cell_type": "code",
   "execution_count": 18,
   "id": "ab038758-db6c-4c51-8e9e-e5136caec6ee",
   "metadata": {},
   "outputs": [],
   "source": [
    "# Question 8:\n",
    "# Assign the value 50 to a variable marks . Increment the value of marks by 5\n",
    "# using the += operator, then print the new value."
   ]
  },
  {
   "cell_type": "code",
   "execution_count": 43,
   "id": "59b94131-cb5d-4a88-9b1b-788f15895a9b",
   "metadata": {},
   "outputs": [
    {
     "name": "stdout",
     "output_type": "stream",
     "text": [
      "55\n"
     ]
    }
   ],
   "source": [
    "marks = 50\n",
    "marks += 5\n",
    "print(marks)"
   ]
  },
  {
   "cell_type": "code",
   "execution_count": 19,
   "id": "ad2480cc-3f7a-4731-a0fe-0d86caa2bfa1",
   "metadata": {},
   "outputs": [],
   "source": [
    "# Question 9:\n",
    "# Write a program to check if the value of a = 0 and b = 10 satisfies a or b .\n",
    "# Print the output and explain why it gives that result."
   ]
  },
  {
   "cell_type": "code",
   "execution_count": 46,
   "id": "188956e8-6a6f-4ca3-a4f0-62dfaec3fe8c",
   "metadata": {},
   "outputs": [
    {
     "name": "stdout",
     "output_type": "stream",
     "text": [
      "10\n"
     ]
    }
   ],
   "source": [
    "a = 0\n",
    "b = 10\n",
    "\n",
    "result = a or b\n",
    "print(a or b)"
   ]
  },
  {
   "cell_type": "code",
   "execution_count": 20,
   "id": "bd08ee1a-dead-4df3-993b-6c26621f458d",
   "metadata": {},
   "outputs": [],
   "source": [
    "# Question 10:\n",
    "# Use not to negate the value of False and print the result. Explain what the\n",
    "# not operator does in Python."
   ]
  },
  {
   "cell_type": "code",
   "execution_count": 47,
   "id": "8ddc3aac-67c2-4e1e-947f-3a0306d01962",
   "metadata": {},
   "outputs": [
    {
     "name": "stdout",
     "output_type": "stream",
     "text": [
      "True\n"
     ]
    }
   ],
   "source": [
    "result = not False\n",
    "print(result)"
   ]
  },
  {
   "cell_type": "code",
   "execution_count": null,
   "id": "7acd7496-e95c-4e64-8510-43b06b3d96af",
   "metadata": {},
   "outputs": [],
   "source": []
  }
 ],
 "metadata": {
  "kernelspec": {
   "display_name": "Python [conda env:base] *",
   "language": "python",
   "name": "conda-base-py"
  },
  "language_info": {
   "codemirror_mode": {
    "name": "ipython",
    "version": 3
   },
   "file_extension": ".py",
   "mimetype": "text/x-python",
   "name": "python",
   "nbconvert_exporter": "python",
   "pygments_lexer": "ipython3",
   "version": "3.13.5"
  }
 },
 "nbformat": 4,
 "nbformat_minor": 5
}
