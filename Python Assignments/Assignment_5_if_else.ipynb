{
 "cells": [
  {
   "cell_type": "code",
   "execution_count": 1,
   "id": "f17d4ee0-87c0-4709-b470-be01a5d8ac11",
   "metadata": {},
   "outputs": [],
   "source": [
    "# 1. You are given 3 integer angles(in degrees) A, B and C of a triangle. You\n",
    "# have to tell whether the triangle is valid or not.\n",
    "# A triangle is valid if sum of its angles equals to 180.\n",
    "# NOTE: You have to take the input of 3 sides of triangle from the user."
   ]
  },
  {
   "cell_type": "code",
   "execution_count": 2,
   "id": "81272c72-2982-4e50-b9e6-1c1aeb4abd70",
   "metadata": {},
   "outputs": [
    {
     "name": "stdin",
     "output_type": "stream",
     "text": [
      "Enter Angle:  45\n",
      "Enter Angle:  45\n",
      "Enter Angle:  90\n"
     ]
    },
    {
     "name": "stdout",
     "output_type": "stream",
     "text": [
      "Valid Triangle\n"
     ]
    }
   ],
   "source": [
    "A = int(input(\"Enter Angle: \"))\n",
    "B = int(input(\"Enter Angle: \"))\n",
    "C = int(input(\"Enter Angle: \"))\n",
    "\n",
    "if A+B+C == 180:\n",
    "    print(\"Valid Triangle\")\n",
    "else:\n",
    "    print(\"Invalid Triangle\")"
   ]
  },
  {
   "cell_type": "code",
   "execution_count": 3,
   "id": "967ddfd7-5730-4581-862c-43e69d9e5c91",
   "metadata": {},
   "outputs": [],
   "source": [
    "# 2. Write a program to input two numbers(A & B) from user and print the\n",
    "# maximum element among A & B.\n",
    "# Problem Constraints\n",
    "# 1 <= A <= 1000000\n",
    "# 1 <= B <= 1000000"
   ]
  },
  {
   "cell_type": "code",
   "execution_count": 6,
   "id": "c2e962b4-8292-4660-ac92-fcc55e4341d9",
   "metadata": {},
   "outputs": [
    {
     "name": "stdin",
     "output_type": "stream",
     "text": [
      "Enter a Number:  10\n",
      "Enter a Number:  20\n"
     ]
    },
    {
     "name": "stdout",
     "output_type": "stream",
     "text": [
      "MAX NUM:  20\n"
     ]
    }
   ],
   "source": [
    "A = int(input(\"Enter a Number: \"))\n",
    "B = int(input(\"Enter a Number: \"))\n",
    "\n",
    "print(\"MAX NUM: \",max(A,B))"
   ]
  },
  {
   "cell_type": "code",
   "execution_count": 7,
   "id": "d86c2823-17c7-4eac-a771-6eba5438c95e",
   "metadata": {},
   "outputs": [],
   "source": [
    "# 3. You are given the Cost Price C and Selling Price S of a Product. You have to\n",
    "# tell whether there is a Profit or Loss. Also, calculate total profit or loss.\n",
    "# NOTE: It is guaranteed that Cost Price and Selling Price are not equal.\n",
    "\n",
    "# Problems in class 2\n",
    "# NOTE: You have to take input of the Cost Price(C) and Selling Price(S) from\n",
    "# the user.\n",
    "\n",
    "# Problem Constraints\n",
    "# C ≠ S\n",
    "# 1 <= C, S <= 109"
   ]
  },
  {
   "cell_type": "code",
   "execution_count": 11,
   "id": "6b7ebf86-36be-4122-808d-5662f5e0703b",
   "metadata": {},
   "outputs": [
    {
     "name": "stdin",
     "output_type": "stream",
     "text": [
      "Enter Cost Price:  100\n",
      "Enter Selling Price:  80\n"
     ]
    },
    {
     "name": "stdout",
     "output_type": "stream",
     "text": [
      "There is Loss of 20.\n"
     ]
    }
   ],
   "source": [
    "C = int(input(\"Enter Cost Price: \"))\n",
    "S = int(input(\"Enter Selling Price: \"))\n",
    "\n",
    "profit = S - C\n",
    "\n",
    "if profit > 0:\n",
    "    print(f\"There is Profit of {profit}.\")\n",
    "else:\n",
    "    print(f\"There is Loss of {-profit}.\")"
   ]
  },
  {
   "cell_type": "code",
   "execution_count": 13,
   "id": "ad678bc0-4038-4bbd-98c6-4bdf247e4c56",
   "metadata": {},
   "outputs": [],
   "source": [
    "# 4. Given the number N, Categorise the number according to following\n",
    "\n",
    "# condition :\n",
    "# 1. Odd-Positive \n",
    "# 2. Odd-Negative \n",
    "# 3. Even-Positive\n",
    "# 4. Even-Negative\n",
    "\n",
    "# Note : Intention of problem is to teach you Nested If-Else, \n",
    "# so try to solve this problem using nested if-else\n",
    "\n",
    "# Problem Constraints\n",
    "# 10000 <= N <= 10000 except 0"
   ]
  },
  {
   "cell_type": "code",
   "execution_count": 19,
   "id": "93d716c8-1140-46eb-86c1-0032beb2f945",
   "metadata": {},
   "outputs": [
    {
     "name": "stdin",
     "output_type": "stream",
     "text": [
      "Enter Any Number:  22\n"
     ]
    },
    {
     "name": "stdout",
     "output_type": "stream",
     "text": [
      "Even-Positive\n"
     ]
    }
   ],
   "source": [
    "N = int(input(\"Enter Any Number: \"))\n",
    "\n",
    "if N % 2 == 0:\n",
    "    if N > 0:\n",
    "        print(\"Even-Positive\")\n",
    "    else:\n",
    "        print(\"Even-Negative\")\n",
    "else:\n",
    "    if N > 0:\n",
    "        print(\"Odd-Positive\")\n",
    "    else:\n",
    "        print(\"Odd-Negative\")"
   ]
  },
  {
   "cell_type": "code",
   "execution_count": null,
   "id": "d35f291e-2432-4108-bcb4-a9f8fed49e85",
   "metadata": {},
   "outputs": [],
   "source": []
  }
 ],
 "metadata": {
  "kernelspec": {
   "display_name": "Python [conda env:base] *",
   "language": "python",
   "name": "conda-base-py"
  },
  "language_info": {
   "codemirror_mode": {
    "name": "ipython",
    "version": 3
   },
   "file_extension": ".py",
   "mimetype": "text/x-python",
   "name": "python",
   "nbconvert_exporter": "python",
   "pygments_lexer": "ipython3",
   "version": "3.13.5"
  }
 },
 "nbformat": 4,
 "nbformat_minor": 5
}
